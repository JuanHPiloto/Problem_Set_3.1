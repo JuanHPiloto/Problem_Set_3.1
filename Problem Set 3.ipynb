{
 "cells": [
  {
   "cell_type": "code",
   "execution_count": null,
   "metadata": {},
   "outputs": [],
   "source": [
    "# Problem 1\n",
    "\n",
    "fhand = open('/ufrc/bsc4452/share/Class_Files/data/CO-OPS__8729108__wl.csv')\n",
    "max_value = 0\n",
    "date = 0\n",
    "count = 0\n",
    "for line in fhand: \n",
    "    delimiter = ',' # This splits the columns by commas and not the spaces thay python reads\n",
    "    t = line.split(delimiter)\n",
    "    if count > 0: # This begins to count through file trying to see if the value is number and if it is notit should print out that it does not exist\n",
    "        try:   \n",
    "            if float (t[1]) > max_value: # This basically looks at the values in the Water Level and keeps track of the largest value and the date line keeps track of the date associated with the current value\n",
    "                max_value = float (t[1])\n",
    "                date = t[0]\n",
    "        except:\n",
    "            print(f'Water Level not recorded:{line}')\n",
    "    count = +1\n",
    "print(max_value) #These two print out the current max water level and the date\n",
    "print(date)"
   ]
  },
  {
   "cell_type": "code",
   "execution_count": null,
   "metadata": {},
   "outputs": [],
   "source": [
    "# Problem 2\n",
    "\n",
    "import pandas as pd\n",
    "df = pd.read_csv(\"/ufrc/bsc4452/share/Class_Files/data/CO-OPS__8729108__wl.csv\")\n",
    "print(df[df[' Water Level'] == df[' Water Level'].max()]) # This line here looks for the max water level and the adjacent values"
   ]
  },
  {
   "cell_type": "code",
   "execution_count": null,
   "metadata": {},
   "outputs": [],
   "source": [
    "# Problem 3\n",
    "\n",
    "import pandas as pd\n",
    "df = pd.read_csv(\"/ufrc/bsc4452/share/Class_Files/data/CO-OPS__8729108__wl.csv\")\n",
    "\n",
    "df['Change in Water Level'] = (df[' Water Level']-df[' Water Level'].shift()).fillna(0) # This creates a new column that takes the values from the Water Level column and subtracts the second value from the first\n",
    "\n",
    "print(df[df['Change in Water Level'] == df['Change in Water Level'].max()]) # Then it takes the same function as before and prints put the line the max value column "
   ]
  }
 ],
 "metadata": {
  "language_info": {
   "codemirror_mode": {
    "name": "ipython",
    "version": 3
   },
   "file_extension": ".py",
   "mimetype": "text/x-python",
   "name": "python",
   "nbconvert_exporter": "python",
   "pygments_lexer": "ipython3",
   "version": 3
  },
  "orig_nbformat": 2
 },
 "nbformat": 4,
 "nbformat_minor": 2
}